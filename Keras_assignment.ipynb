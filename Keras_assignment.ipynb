{
 "cells": [
  {
   "cell_type": "markdown",
   "metadata": {},
   "source": [
    "# Classify different data sets"
   ]
  },
  {
   "cell_type": "markdown",
   "metadata": {},
   "source": [
    "### Basic includes"
   ]
  },
  {
   "cell_type": "code",
   "execution_count": 164,
   "metadata": {},
   "outputs": [],
   "source": [
    "# Using pandas to load the csv file\n",
    "import pandas as pd\n",
    "\n",
    "import numpy as np\n",
    "import matplotlib.pyplot as plt\n",
    "\n",
    "from keras import models \n",
    "from keras import layers \n",
    "from keras import callbacks\n",
    "from keras.utils import to_categorical\n",
    "\n",
    "# reuters and fashin mnist data set from keras\n",
    "from keras.datasets import reuters\n",
    "from keras.datasets import fashion_mnist\n",
    "\n",
    "# needed to preprocess text\n",
    "from keras.preprocessing.text import Tokenizer"
   ]
  },
  {
   "cell_type": "markdown",
   "metadata": {},
   "source": [
    "### Classify the Fashion Mnist\n",
    "\n",
    "---"
   ]
  },
  {
   "cell_type": "code",
   "execution_count": 165,
   "metadata": {},
   "outputs": [
    {
     "name": "stdout",
     "output_type": "stream",
     "text": [
      "(60000, 28, 28)\n"
     ]
    },
    {
     "data": {
      "text/plain": [
       "<matplotlib.image.AxesImage at 0xb43422cf8>"
      ]
     },
     "execution_count": 165,
     "metadata": {},
     "output_type": "execute_result"
    },
    {
     "data": {
      "image/png": "[encoded data removed]",
      "text/plain": [
       "<Figure size 432x288 with 1 Axes>"
      ]
     },
     "metadata": {
      "needs_background": "light"
     },
     "output_type": "display_data"
    }
   ],
   "source": [
    "(fashion_train_data, fashion_train_labels), (fashion_test_data, fashion_test_labels) = fashion_mnist.load_data()\n",
    "\n",
    "print(fashion_train_data.shape)\n",
    "\n",
    "test_index = 10\n",
    "\n",
    "plt.title(\"Label: \" + str(fashion_train_labels[test_index]))\n",
    "plt.imshow(fashion_train_data[test_index], cmap=\"gray\")"
   ]
  },
  {
   "cell_type": "markdown",
   "metadata": {},
   "source": [
    "#### TO DO: Preprocess the data\n",
    "\n",
    "1. Normalize the input data set\n",
    "2. Perform one hot encoding\n",
    "3. Create a train, test, and validation set"
   ]
  },
  {
   "cell_type": "markdown",
   "metadata": {},
   "source": [
    "#### TO DO: Define and train a network, then plot the accuracy of the training, validation, and testing\n",
    "\n",
    "1. Use a validation set\n",
    "2. Propose and train a network\n",
    "3. Print the history of the training\n",
    "4. Evaluate with a test set"
   ]
  },
  {
   "cell_type": "code",
   "execution_count": 166,
   "metadata": {},
   "outputs": [],
   "source": [
    "fashion_train_data = fashion_train_data.reshape((60000, 28 * 28))# Normalizar datos\n",
    "fashion_train_data = fashion_train_data.astype('float32') / 255# Normalizar datos\n",
    "fashion_test_data = fashion_test_data.reshape((10000, 28 * 28)) \n",
    "fashion_test_data = fashion_test_data.astype('float32') / 255"
   ]
  },
  {
   "cell_type": "code",
   "execution_count": 167,
   "metadata": {},
   "outputs": [],
   "source": [
    "fashion_train_labels = to_categorical(fashion_train_labels) #hot encoding\n",
    "fashion_test_labels = to_categorical(fashion_test_labels)#hot encoding"
   ]
  },
  {
   "cell_type": "code",
   "execution_count": 168,
   "metadata": {},
   "outputs": [],
   "source": [
    "validation_data = fashion_train_data[:30000] #Validación\n",
    "validation_labels = fashion_train_labels[:30000] #Validación\n",
    "x_data = fashion_train_data[30000:]\n",
    "y_data = fashion_train_labels[30000:]\n"
   ]
  },
  {
   "cell_type": "code",
   "execution_count": 175,
   "metadata": {},
   "outputs": [
    {
     "name": "stdout",
     "output_type": "stream",
     "text": [
      "_________________________________________________________________\n",
      "Layer (type)                 Output Shape              Param #   \n",
      "=================================================================\n",
      "dense_59 (Dense)             (None, 128)               100480    \n",
      "_________________________________________________________________\n",
      "dropout_41 (Dropout)         (None, 128)               0         \n",
      "_________________________________________________________________\n",
      "dense_60 (Dense)             (None, 64)                8256      \n",
      "_________________________________________________________________\n",
      "dropout_42 (Dropout)         (None, 64)                0         \n",
      "_________________________________________________________________\n",
      "dense_61 (Dense)             (None, 10)                650       \n",
      "=================================================================\n",
      "Total params: 109,386\n",
      "Trainable params: 109,386\n",
      "Non-trainable params: 0\n",
      "_________________________________________________________________\n"
     ]
    }
   ],
   "source": [
    "network = models.Sequential()\n",
    "network.add(layers.Dense(128, activation='relu', input_shape= (28 * 28,)))\n",
    "network.add(layers.Dropout(0.3))\n",
    "network.add(layers.Dense(64, activation='relu'))\n",
    "network.add(layers.Dropout(0.3))\n",
    "network.add(layers.Dense(10, activation='softmax'))\n",
    "network.summary()\n",
    "early_stop = callbacks.EarlyStopping(monitor='val_loss', patience=2)\n",
    "network.compile(loss='categorical_crossentropy', optimizer='adam', metrics=['accuracy'])"
   ]
  },
  {
   "cell_type": "code",
   "execution_count": 177,
   "metadata": {},
   "outputs": [
    {
     "name": "stdout",
     "output_type": "stream",
     "text": [
      "Train on 30000 samples, validate on 30000 samples\n",
      "Epoch 1/25\n",
      " - 6s - loss: 0.3419 - acc: 0.8757 - val_loss: 0.3583 - val_acc: 0.8728\n",
      "Epoch 2/25\n",
      " - 5s - loss: 0.3365 - acc: 0.8765 - val_loss: 0.3486 - val_acc: 0.8762\n",
      "Epoch 3/25\n",
      " - 5s - loss: 0.3312 - acc: 0.8765 - val_loss: 0.3317 - val_acc: 0.8812\n",
      "Epoch 4/25\n",
      " - 4s - loss: 0.3283 - acc: 0.8797 - val_loss: 0.3348 - val_acc: 0.8810\n",
      "Epoch 5/25\n",
      " - 5s - loss: 0.3243 - acc: 0.8799 - val_loss: 0.3332 - val_acc: 0.8814\n"
     ]
    }
   ],
   "source": [
    "history = network.fit(x_data, y_data, epochs=25, validation_data = (validation_data, validation_labels), callbacks=[early_stop], verbose=2)"
   ]
  },
  {
   "cell_type": "code",
   "execution_count": null,
   "metadata": {},
   "outputs": [],
   "source": []
  },
  {
   "cell_type": "code",
   "execution_count": 179,
   "metadata": {},
   "outputs": [
    {
     "name": "stdout",
     "output_type": "stream",
     "text": [
      "10000/10000 [==============================] - 1s 63us/step\n",
      "test loss:  0.36716508737802506 test accuracy:  0.8691\n"
     ]
    },
    {
     "data": {
      "image/png": "[encoded data removed]",
      "text/plain": [
       "<Figure size 432x288 with 1 Axes>"
      ]
     },
     "metadata": {
      "needs_background": "light"
     },
     "output_type": "display_data"
    }
   ],
   "source": [
    "test_loss, test_acc = network.evaluate(fashion_test_data, fashion_test_labels)\n",
    "\n",
    "print(\"test loss: \", test_loss, \"test accuracy: \", test_acc) #imprimir evaluación\n",
    "history_dict = history.history\n",
    "acc = history_dict['acc']\n",
    "val_acc = history_dict['val_acc']\n",
    "loss = history_dict['loss']\n",
    "val_loss = history_dict['val_loss']\n",
    "\n",
    "epochs = range(1, len(acc) + 1)\n",
    "\n",
    "plt.plot(epochs, loss, 'bo', label='Training loss') #graficas\n",
    "plt.plot(epochs, val_loss, 'b', label='Validation loss')\n",
    "plt.title('Training and validation loss')\n",
    "plt.xlabel('Epochs')\n",
    "plt.ylabel('Loss')\n",
    "plt.legend()\n",
    "\n",
    "plt.show()"
   ]
  },
  {
   "cell_type": "code",
   "execution_count": 181,
   "metadata": {},
   "outputs": [
    {
     "data": {
      "image/png": "[encoded data removed]",
      "text/plain": [
       "<Figure size 432x288 with 1 Axes>"
      ]
     },
     "metadata": {
      "needs_background": "light"
     },
     "output_type": "display_data"
    }
   ],
   "source": [
    "\n",
    "plt.clf()   \n",
    "plt.plot(epochs, acc, 'bo', label='Training acc') #Grñafica de entrenamiento\n",
    "plt.plot(epochs, val_acc, 'b', label='Validation acc') #Gráfica de validación\n",
    "plt.title('Training and validation accuracy')\n",
    "plt.xlabel('Epochs')\n",
    "plt.ylabel('Accuracy')\n",
    "plt.legend()\n",
    "\n",
    "plt.show()"
   ]
  },
  {
   "cell_type": "markdown",
   "metadata": {},
   "source": [
    "## Classifying newswires\n",
    "\n",
    "---\n",
    "\n",
    "Build a network to classify Reuters newswires into 46 different mutually-exclusive topics."
   ]
  },
  {
   "cell_type": "markdown",
   "metadata": {},
   "source": [
    "### Load and review the data"
   ]
  },
  {
   "cell_type": "code",
   "execution_count": 182,
   "metadata": {},
   "outputs": [
    {
     "name": "stdout",
     "output_type": "stream",
     "text": [
      "(8982,)\n",
      "(8982,)\n",
      "[1, 2, 2, 8, 43, 10, 447, 5, 25, 207, 270, 5, 3095, 111, 16, 369, 186, 90, 67, 7, 89, 5, 19, 102, 6, 19, 124, 15, 90, 67, 84, 22, 482, 26, 7, 48, 4, 49, 8, 864, 39, 209, 154, 6, 151, 6, 83, 11, 15, 22, 155, 11, 15, 7, 48, 9, 4579, 1005, 504, 6, 258, 6, 272, 11, 15, 22, 134, 44, 11, 15, 16, 8, 197, 1245, 90, 67, 52, 29, 209, 30, 32, 132, 6, 109, 15, 17, 12]\n",
      "3\n",
      "{0, 1, 2, 3, 4, 5, 6, 7, 8, 9, 10, 11, 12, 13, 14, 15, 16, 17, 18, 19, 20, 21, 22, 23, 24, 25, 26, 27, 28, 29, 30, 31, 32, 33, 34, 35, 36, 37, 38, 39, 40, 41, 42, 43, 44, 45}\n"
     ]
    }
   ],
   "source": [
    "(reuters_train_data, reuters_train_labels), (reuters_test_data, reuters_test_labels) = reuters.load_data(num_words=10000)\n",
    "\n",
    "print(reuters_train_data.shape)\n",
    "print(reuters_train_labels.shape)\n",
    "print(reuters_train_data[0])\n",
    "print(reuters_train_labels[0])\n",
    "\n",
    "print(set(reuters_train_labels))"
   ]
  },
  {
   "cell_type": "markdown",
   "metadata": {},
   "source": [
    "Load the word index to decode the train data."
   ]
  },
  {
   "cell_type": "code",
   "execution_count": 183,
   "metadata": {},
   "outputs": [
    {
     "name": "stdout",
     "output_type": "stream",
     "text": [
      "<START> <UNKNOWN> <UNKNOWN> said as a result of its december acquisition of space co it expects earnings per share in 1987 of 1 15 to 1 30 dlrs per share up from 70 cts in 1986 the company said pretax net should rise to nine to 10 mln dlrs from six mln dlrs in 1986 and rental operation revenues to 19 to 22 mln dlrs from 12 5 mln dlrs it said cash flow per share this year should be 2 50 to three dlrs reuter 3\n"
     ]
    }
   ],
   "source": [
    "word_index = reuters.get_word_index()\n",
    "\n",
    "reverse_index = dict([(value+3, key) for (key, value) in word_index.items()])\n",
    "\n",
    "reverse_index[0] = \"<PAD>\"\n",
    "reverse_index[1] = \"<START>\"\n",
    "reverse_index[2] = \"<UNKNOWN>\"  # unknown\n",
    "reverse_index[3] = \"<UNUSED>\"\n",
    "\n",
    "decoded_review = ' '.join([reverse_index.get(i,'?') for i in reuters_train_data[0]])\n",
    "\n",
    "print(decoded_review)"
   ]
  },
  {
   "cell_type": "markdown",
   "metadata": {},
   "source": [
    "#### TO DO: Preprocess the data\n",
    "\n",
    "1. Normalize the input data set\n",
    "2. Perform one hot encoding\n",
    "3. Create a train, test, and validation set"
   ]
  },
  {
   "cell_type": "markdown",
   "metadata": {},
   "source": [
    "#### TO DO: Define and train a network, then plot the accuracy of the training, validation, and testing\n",
    "\n",
    "1. Use a validation set\n",
    "2. Propose and train a network\n",
    "3. Print the history of the training\n",
    "4. Evaluate with a test set"
   ]
  },
  {
   "cell_type": "code",
   "execution_count": 186,
   "metadata": {},
   "outputs": [],
   "source": [
    "tokenizer = Tokenizer(num_words=8982)\n",
    "train_data_token = tokenizer.sequences_to_matrix(reuters_train_data, mode='binary') #Normalizando\n",
    "test_data_token = tokenizer.sequences_to_matrix(reuters_test_data, mode='binary')\n",
    "one_hot_train_labels = to_categorical(reuters_train_labels) #hot encoding\n",
    "one_hot_test_labels = to_categorical(reuters_test_labels)\n",
    "\n"
   ]
  },
  {
   "cell_type": "code",
   "execution_count": 187,
   "metadata": {},
   "outputs": [],
   "source": [
    "validation_data = train_data_token[:3000] #validación\n",
    "validation_labels = one_hot_train_labels[:3000]\n",
    "x_data = train_data_token[3000:]\n",
    "y_data = one_hot_train_labels[3000:]\n"
   ]
  },
  {
   "cell_type": "code",
   "execution_count": 191,
   "metadata": {},
   "outputs": [
    {
     "name": "stdout",
     "output_type": "stream",
     "text": [
      "_________________________________________________________________\n",
      "Layer (type)                 Output Shape              Param #   \n",
      "=================================================================\n",
      "dense_68 (Dense)             (None, 92)                826436    \n",
      "_________________________________________________________________\n",
      "dropout_49 (Dropout)         (None, 92)                0         \n",
      "_________________________________________________________________\n",
      "dense_69 (Dense)             (None, 46)                4278      \n",
      "_________________________________________________________________\n",
      "dropout_50 (Dropout)         (None, 46)                0         \n",
      "=================================================================\n",
      "Total params: 830,714\n",
      "Trainable params: 830,714\n",
      "Non-trainable params: 0\n",
      "_________________________________________________________________\n"
     ]
    }
   ],
   "source": [
    "\n",
    "network = models.Sequential()\n",
    "network.add(layers.Dense(92, activation='relu', input_shape= (8982,)))\n",
    "network.add(layers.Dropout(0.3))\n",
    "network.add(layers.Dense(46, activation='softmax'))\n",
    "network.add(layers.Dropout(0.2))\n",
    "network.summary()\n"
   ]
  },
  {
   "cell_type": "code",
   "execution_count": 192,
   "metadata": {},
   "outputs": [],
   "source": [
    "early_stop = callbacks.EarlyStopping(monitor='val_loss', patience=6)\n",
    "network.compile(loss='categorical_crossentropy', optimizer='adam', metrics=['accuracy'])"
   ]
  },
  {
   "cell_type": "code",
   "execution_count": null,
   "metadata": {},
   "outputs": [],
   "source": []
  },
  {
   "cell_type": "code",
   "execution_count": 194,
   "metadata": {},
   "outputs": [
    {
     "name": "stdout",
     "output_type": "stream",
     "text": [
      "Train on 5982 samples, validate on 3000 samples\n",
      "Epoch 1/15\n",
      " - 4s - loss: 3.3350 - acc: 0.7775 - val_loss: 0.9927 - val_acc: 0.8030\n",
      "Epoch 2/15\n",
      " - 4s - loss: 3.3791 - acc: 0.7732 - val_loss: 1.0194 - val_acc: 0.8033\n",
      "Epoch 3/15\n",
      " - 4s - loss: 3.1882 - acc: 0.7850 - val_loss: 1.0500 - val_acc: 0.8033\n",
      "Epoch 4/15\n",
      " - 4s - loss: 3.3338 - acc: 0.7767 - val_loss: 1.0196 - val_acc: 0.8043\n",
      "Epoch 5/15\n",
      " - 4s - loss: 3.3476 - acc: 0.7743 - val_loss: 1.0730 - val_acc: 0.8017\n",
      "Epoch 6/15\n",
      " - 4s - loss: 3.3471 - acc: 0.7763 - val_loss: 1.0612 - val_acc: 0.8023\n",
      "Epoch 7/15\n",
      " - 4s - loss: 3.3135 - acc: 0.7780 - val_loss: 1.0533 - val_acc: 0.8040\n"
     ]
    }
   ],
   "source": [
    "history = network.fit(x_data, y_data, epochs=15, validation_data = (validation_data, validation_labels), callbacks=[early_stop], verbose=2) #entrenamiento"
   ]
  },
  {
   "cell_type": "code",
   "execution_count": 195,
   "metadata": {},
   "outputs": [
    {
     "name": "stdout",
     "output_type": "stream",
     "text": [
      "2246/2246 [==============================] - 1s 355us/step\n",
      "test loss:  1.12112430473151 test accuracy:  0.7911843277202157\n"
     ]
    }
   ],
   "source": [
    "test_loss, test_acc = network.evaluate(test_data_token, one_hot_test_labels) #evaluando\n",
    "print(\"test loss: \", test_loss, \"test accuracy: \", test_acc)"
   ]
  },
  {
   "cell_type": "code",
   "execution_count": 196,
   "metadata": {},
   "outputs": [],
   "source": [
    "history_dict = history.history\n",
    "acc = history_dict['acc']\n",
    "val_acc = history_dict['val_acc']\n",
    "loss = history_dict['loss']\n",
    "val_loss = history_dict['val_loss']\n",
    "\n",
    "epochs = range(1, len(acc) + 1)"
   ]
  },
  {
   "cell_type": "code",
   "execution_count": 197,
   "metadata": {},
   "outputs": [
    {
     "data": {
      "image/png": "[encoded data removed]",
      "text/plain": [
       "<Figure size 432x288 with 1 Axes>"
      ]
     },
     "metadata": {
      "needs_background": "light"
     },
     "output_type": "display_data"
    }
   ],
   "source": [
    "\n",
    "plt.plot(epochs, loss, 'bo', label='Training loss') #gráfica \n",
    "\n",
    "plt.plot(epochs, val_loss, 'b', label='Validation loss')\n",
    "plt.title('Training and validation loss')\n",
    "plt.xlabel('Epochs')\n",
    "plt.ylabel('Loss')\n",
    "plt.legend()\n",
    "\n",
    "plt.show()"
   ]
  },
  {
   "cell_type": "code",
   "execution_count": null,
   "metadata": {},
   "outputs": [],
   "source": []
  },
  {
   "cell_type": "code",
   "execution_count": 199,
   "metadata": {},
   "outputs": [
    {
     "data": {
      "image/png": "[encoded data removed]",
      "text/plain": [
       "<Figure size 432x288 with 1 Axes>"
      ]
     },
     "metadata": {
      "needs_background": "light"
     },
     "output_type": "display_data"
    }
   ],
   "source": [
    "\n",
    "\n",
    "plt.clf()  \n",
    "\n",
    "plt.plot(epochs, acc, 'bo', label='Training acc')\n",
    "plt.plot(epochs, val_acc, 'b', label='Validation acc')\n",
    "plt.title('Training and validation accuracy') #gráfica de validación\n",
    "plt.xlabel('Epochs')\n",
    "plt.ylabel('Accuracy')\n",
    "plt.legend()\n",
    "\n",
    "plt.show()\n"
   ]
  },
  {
   "cell_type": "code",
   "execution_count": null,
   "metadata": {},
   "outputs": [],
   "source": []
  },
  {
   "cell_type": "markdown",
   "metadata": {},
   "source": [
    "## Predicting Student Admissions\n",
    "\n",
    "---\n",
    "\n",
    "Predict student admissions based on three pieces of data:\n",
    "\n",
    "- GRE Scores\n",
    "- GPA Scores\n",
    "- Class rank"
   ]
  },
  {
   "cell_type": "markdown",
   "metadata": {},
   "source": [
    "### Load and visualize the data"
   ]
  },
  {
   "cell_type": "code",
   "execution_count": 232,
   "metadata": {},
   "outputs": [
    {
     "name": "stdout",
     "output_type": "stream",
     "text": [
      "     admit    gre   gpa  rank\n",
      "0        0  380.0  3.61   3.0\n",
      "1        1  660.0  3.67   3.0\n",
      "2        1  800.0  4.00   1.0\n",
      "3        1  640.0  3.19   4.0\n",
      "4        0  520.0  2.93   4.0\n",
      "5        1  760.0  3.00   2.0\n",
      "6        1  560.0  2.98   1.0\n",
      "7        0  400.0  3.08   2.0\n",
      "8        1  540.0  3.39   3.0\n",
      "9        0  700.0  3.92   2.0\n",
      "10       0  800.0  4.00   4.0\n",
      "11       0  440.0  3.22   1.0\n",
      "12       1  760.0  4.00   1.0\n",
      "13       0  700.0  3.08   2.0\n",
      "14       1  700.0  4.00   1.0\n",
      "15       0  480.0  3.44   3.0\n",
      "16       0  780.0  3.87   4.0\n",
      "17       0  360.0  2.56   3.0\n",
      "18       0  800.0  3.75   2.0\n",
      "19       1  540.0  3.81   1.0\n",
      "20       0  500.0  3.17   3.0\n",
      "21       1  660.0  3.63   2.0\n",
      "22       0  600.0  2.82   4.0\n",
      "23       0  680.0  3.19   4.0\n",
      "24       1  760.0  3.35   2.0\n",
      "25       1  800.0  3.66   1.0\n",
      "26       1  620.0  3.61   1.0\n",
      "27       1  520.0  3.74   4.0\n",
      "28       1  780.0  3.22   2.0\n",
      "29       0  520.0  3.29   1.0\n",
      "..     ...    ...   ...   ...\n",
      "370      1  540.0  3.77   2.0\n",
      "371      1  680.0  3.76   3.0\n",
      "372      1  680.0  2.42   1.0\n",
      "373      1  620.0  3.37   1.0\n",
      "374      0  560.0  3.78   2.0\n",
      "375      0  560.0  3.49   4.0\n",
      "376      0  620.0  3.63   2.0\n",
      "377      1  800.0  4.00   2.0\n",
      "378      0  640.0  3.12   3.0\n",
      "379      0  540.0  2.70   2.0\n",
      "380      0  700.0  3.65   2.0\n",
      "381      1  540.0  3.49   2.0\n",
      "382      0  540.0  3.51   2.0\n",
      "383      0  660.0  4.00   1.0\n",
      "384      1  480.0  2.62   2.0\n",
      "385      0  420.0  3.02   1.0\n",
      "386      1  740.0  3.86   2.0\n",
      "387      0  580.0  3.36   2.0\n",
      "388      0  640.0  3.17   2.0\n",
      "389      0  640.0  3.51   2.0\n",
      "390      1  800.0  3.05   2.0\n",
      "391      1  660.0  3.88   2.0\n",
      "392      1  600.0  3.38   3.0\n",
      "393      1  620.0  3.75   2.0\n",
      "394      1  460.0  3.99   3.0\n",
      "395      0  620.0  4.00   2.0\n",
      "396      0  560.0  3.04   3.0\n",
      "397      0  460.0  2.63   2.0\n",
      "398      0  700.0  3.65   2.0\n",
      "399      0  600.0  3.89   3.0\n",
      "\n",
      "[400 rows x 4 columns]\n"
     ]
    }
   ],
   "source": [
    "student_data = pd.read_csv(\"data/student_data.csv\") #se creo carpeta data\n",
    "print(student_data)"
   ]
  },
  {
   "cell_type": "markdown",
   "metadata": {},
   "source": [
    "Plot of the GRE and the GPA from the data."
   ]
  },
  {
   "cell_type": "code",
   "execution_count": 253,
   "metadata": {},
   "outputs": [
    {
     "data": {
      "image/png": "[encoded data removed]",
      "text/plain": [
       "<Figure size 432x288 with 1 Axes>"
      ]
     },
     "metadata": {
      "needs_background": "light"
     },
     "output_type": "display_data"
    }
   ],
   "source": [
    "X = np.array(student_data[[\"gre\",\"gpa\"]])\n",
    "y = np.array(student_data[\"admit\"])\n",
    "admitted = X[np.argwhere(y==1)]\n",
    "rejected = X[np.argwhere(y==0)]\n",
    "plt.scatter([s[0][0] for s in rejected], [s[0][1] for s in rejected], s = 25, color = 'red', edgecolor = 'k')\n",
    "plt.scatter([s[0][0] for s in admitted], [s[0][1] for s in admitted], s = 25, color = 'cyan', edgecolor = 'k')\n",
    "plt.xlabel('Test (GRE)')\n",
    "plt.ylabel('Grades (GPA)')\n",
    "\n",
    "plt.show()"
   ]
  },
  {
   "cell_type": "markdown",
   "metadata": {},
   "source": [
    "Plot of the data by class rank."
   ]
  },
  {
   "cell_type": "code",
   "execution_count": 254,
   "metadata": {},
   "outputs": [
    {
     "data": {
      "image/png": "[encoded data removed]",
      "text/plain": [
       "<Figure size 1440x720 with 4 Axes>"
      ]
     },
     "metadata": {
      "needs_background": "light"
     },
     "output_type": "display_data"
    }
   ],
   "source": [
    "f, plots = plt.subplots(2, 2, figsize=(20,10))\n",
    "plots = [plot for sublist in plots for plot in sublist]\n",
    "\n",
    "for idx, plot in enumerate(plots):\n",
    "    data_rank = student_data[student_data[\"rank\"]==idx+1]\n",
    "    plot.set_title(\"Rank \" + str(idx+1))\n",
    "    X = np.array(data_rank[[\"gre\",\"gpa\"]])\n",
    "    y = np.array(data_rank[\"admit\"])\n",
    "    admitted = X[np.argwhere(y==1)]\n",
    "    rejected = X[np.argwhere(y==0)]\n",
    "    plot.scatter([s[0][0] for s in rejected], [s[0][1] for s in rejected], s = 25, color = 'red', edgecolor = 'k')\n",
    "    plot.scatter([s[0][0] for s in admitted], [s[0][1] for s in admitted], s = 25, color = 'cyan', edgecolor = 'k')\n",
    "    plot.set_xlabel('Test (GRE)')\n",
    "    plot.set_ylabel('Grades (GPA)')\n",
    "    "
   ]
  },
  {
   "cell_type": "markdown",
   "metadata": {},
   "source": [
    "#### TO DO: Preprocess the data\n",
    "\n",
    "1. Normalize the input data set\n",
    "2. Perform one hot encoding\n",
    "3. Create a train, test, and validation set"
   ]
  },
  {
   "cell_type": "markdown",
   "metadata": {},
   "source": [
    "#### TO DO: Define and train a network, then plot the accuracy of the training, validation, and testing\n",
    "\n",
    "1. Use a validation set\n",
    "2. Propose and train a network\n",
    "3. Print the history of the training\n",
    "4. Evaluate with a test set"
   ]
  },
  {
   "cell_type": "code",
   "execution_count": 258,
   "metadata": {},
   "outputs": [],
   "source": [
    "student_data = student_data.fillna(0)\n",
    "normalized_student_data = pd.get_dummies(student_data, columns=['rank']) #normalizando\n",
    "normalized_student_data[\"gre\"] = normalized_student_data[\"gre\"] / 800\n",
    "normalized_student_data[\"gpa\"] = normalized_student_data[\"gpa\"] / 4\n",
    "np.random.shuffle(normalized_student_data.values)\n",
    "\n",
    "student_x = np.array(normalized_student_data)[:,1:]\n",
    "student_x = student_x.astype('float32')\n",
    "student_y = to_categorical(student_data[\"admit\"])\n"
   ]
  },
  {
   "cell_type": "code",
   "execution_count": 259,
   "metadata": {},
   "outputs": [],
   "source": [
    "\n",
    "student_validation_data = student_x[:100] #validando\n",
    "student_validation_labels = student_y[:100]\n",
    "student_x_data = student_x[100:]\n",
    "student_y_data = student_y[100:]\n"
   ]
  },
  {
   "cell_type": "code",
   "execution_count": 269,
   "metadata": {},
   "outputs": [
    {
     "name": "stdout",
     "output_type": "stream",
     "text": [
      "_________________________________________________________________\n",
      "Layer (type)                 Output Shape              Param #   \n",
      "=================================================================\n",
      "dense_83 (Dense)             (None, 128)               1024      \n",
      "_________________________________________________________________\n",
      "dropout_59 (Dropout)         (None, 128)               0         \n",
      "_________________________________________________________________\n",
      "dense_84 (Dense)             (None, 64)                8256      \n",
      "_________________________________________________________________\n",
      "dropout_60 (Dropout)         (None, 64)                0         \n",
      "_________________________________________________________________\n",
      "dense_85 (Dense)             (None, 32)                2080      \n",
      "_________________________________________________________________\n",
      "dense_86 (Dense)             (None, 2)                 66        \n",
      "=================================================================\n",
      "Total params: 11,426\n",
      "Trainable params: 11,426\n",
      "Non-trainable params: 0\n",
      "_________________________________________________________________\n",
      "Train on 300 samples, validate on 100 samples\n",
      "Epoch 1/15\n",
      "300/300 [==============================] - 7s 24ms/step - loss: 0.6897 - acc: 0.5800 - val_loss: 0.6731 - val_acc: 0.6800\n",
      "Epoch 2/15\n",
      "300/300 [==============================] - 0s 204us/step - loss: 0.6625 - acc: 0.6867 - val_loss: 0.6494 - val_acc: 0.6800\n",
      "Epoch 3/15\n",
      "300/300 [==============================] - 0s 147us/step - loss: 0.6425 - acc: 0.6833 - val_loss: 0.6352 - val_acc: 0.6800\n",
      "Epoch 4/15\n",
      "300/300 [==============================] - 0s 359us/step - loss: 0.6332 - acc: 0.6833 - val_loss: 0.6283 - val_acc: 0.6800\n",
      "Epoch 5/15\n",
      "300/300 [==============================] - 0s 340us/step - loss: 0.6195 - acc: 0.6833 - val_loss: 0.6236 - val_acc: 0.6800\n",
      "Epoch 6/15\n",
      "300/300 [==============================] - 0s 190us/step - loss: 0.6177 - acc: 0.6833 - val_loss: 0.6195 - val_acc: 0.6800\n",
      "Epoch 7/15\n",
      "300/300 [==============================] - 0s 512us/step - loss: 0.6135 - acc: 0.6800 - val_loss: 0.6166 - val_acc: 0.6800\n",
      "Epoch 8/15\n",
      "300/300 [==============================] - 0s 251us/step - loss: 0.6019 - acc: 0.6867 - val_loss: 0.6148 - val_acc: 0.6800\n",
      "Epoch 9/15\n",
      "300/300 [==============================] - 0s 580us/step - loss: 0.6062 - acc: 0.6867 - val_loss: 0.6123 - val_acc: 0.6800\n",
      "Epoch 10/15\n",
      "300/300 [==============================] - 0s 196us/step - loss: 0.5978 - acc: 0.6767 - val_loss: 0.6109 - val_acc: 0.6800\n",
      "Epoch 11/15\n",
      "300/300 [==============================] - 0s 144us/step - loss: 0.5997 - acc: 0.6833 - val_loss: 0.6104 - val_acc: 0.6800\n",
      "Epoch 12/15\n",
      "300/300 [==============================] - 0s 369us/step - loss: 0.5947 - acc: 0.6967 - val_loss: 0.6116 - val_acc: 0.6800\n",
      "Epoch 13/15\n",
      "300/300 [==============================] - 0s 224us/step - loss: 0.5961 - acc: 0.6933 - val_loss: 0.6099 - val_acc: 0.6800\n",
      "Epoch 14/15\n",
      "300/300 [==============================] - 0s 191us/step - loss: 0.5950 - acc: 0.7000 - val_loss: 0.6094 - val_acc: 0.6800\n",
      "Epoch 15/15\n",
      "300/300 [==============================] - 0s 205us/step - loss: 0.5955 - acc: 0.6967 - val_loss: 0.6106 - val_acc: 0.6800\n",
      "120/120 [==============================] - 0s 230us/step\n",
      "student Test accuracy: [0.49094740947087606, 0.800000003973643]\n"
     ]
    }
   ],
   "source": [
    "\n",
    "\n",
    "student_NN_model = models.Sequential([\n",
    "    layers.Dense(128, activation='relu', kernel_initializer='random_uniform', input_shape=(7,)),\n",
    "    layers.Dropout(0.3),\n",
    "    layers.Dense(64, activation='relu'),\n",
    "    layers.Dropout(0.3),\n",
    "    layers.Dense(32, activation='relu'),\n",
    "    layers.Dense(2, activation='softmax')\n",
    "    ])\n",
    "\n",
    "student_NN_model.compile(optimizer='rmsprop', \n",
    "              loss='categorical_crossentropy',\n",
    "              metrics=['accuracy'])\n",
    "\n",
    "student_NN_model.summary()\n",
    "    \n",
    "student_history = student_NN_model.fit(student_x_data, student_y_data, epochs=15, batch_size=100, validation_data=(student_validation_data,student_validation_labels))\n",
    "    \n",
    "student_results = student_NN_model.evaluate(student_x[80:200], student_y[80:200])\n",
    "\n",
    "print('student Test accuracy:', student_results)\n",
    "\n",
    "\n"
   ]
  },
  {
   "cell_type": "code",
   "execution_count": 272,
   "metadata": {},
   "outputs": [
    {
     "name": "stdout",
     "output_type": "stream",
     "text": [
      "dict_keys(['val_loss', 'val_acc', 'loss', 'acc'])\n"
     ]
    }
   ],
   "source": [
    "\n",
    "\n",
    "student_history_dict = student_history.history\n",
    "print(student_history_dict.keys())\n",
    "\n",
    "\n",
    "student_acc = student_history_dict['acc']\n",
    "student_val_acc = student_history_dict['val_acc']\n",
    "student_loss = student_history_dict['loss']\n",
    "student_val_loss = student_history_dict['val_loss']\n",
    "\n",
    "student_epochs = range(1, len(student_acc) + 1)\n",
    "\n"
   ]
  },
  {
   "cell_type": "code",
   "execution_count": 274,
   "metadata": {},
   "outputs": [
    {
     "data": {
      "image/png": "[encoded data removed]",
      "text/plain": [
       "<Figure size 432x288 with 1 Axes>"
      ]
     },
     "metadata": {
      "needs_background": "light"
     },
     "output_type": "display_data"
    }
   ],
   "source": [
    "\n",
    "plt.plot(student_epochs, student_loss, 'bo', label='Training loss')\n",
    "\n",
    "plt.plot(student_epochs, student_val_loss, 'b', label='Validation loss')\n",
    "plt.title('Training and validation loss')\n",
    "plt.xlabel('Epochs')\n",
    "plt.ylabel('Loss')\n",
    "plt.legend()\n",
    "\n",
    "plt.show()\n",
    "\n"
   ]
  },
  {
   "cell_type": "code",
   "execution_count": 275,
   "metadata": {},
   "outputs": [
    {
     "data": {
      "image/png": "[encoded data removed]",
      "text/plain": [
       "<Figure size 432x288 with 1 Axes>"
      ]
     },
     "metadata": {
      "needs_background": "light"
     },
     "output_type": "display_data"
    }
   ],
   "source": [
    "\n",
    "plt.clf()\n",
    "\n",
    "plt.plot(student_epochs, student_acc, 'bo', label='Training acc')\n",
    "plt.plot(student_epochs, student_val_acc, 'b', label='Validation acc')\n",
    "plt.title('Training and validation accuracy')\n",
    "plt.xlabel('Epochs')\n",
    "plt.ylabel('Accuracy')\n",
    "plt.legend()\n",
    "\n",
    "plt.show()"
   ]
  },
  {
   "cell_type": "code",
   "execution_count": null,
   "metadata": {},
   "outputs": [],
   "source": []
  },
  {
   "cell_type": "code",
   "execution_count": null,
   "metadata": {},
   "outputs": [],
   "source": []
  },
  {
   "cell_type": "code",
   "execution_count": null,
   "metadata": {},
   "outputs": [],
   "source": []
  },
  {
   "cell_type": "code",
   "execution_count": null,
   "metadata": {},
   "outputs": [],
   "source": []
  },
  {
   "cell_type": "code",
   "execution_count": null,
   "metadata": {},
   "outputs": [],
   "source": []
  },
  {
   "cell_type": "code",
   "execution_count": null,
   "metadata": {},
   "outputs": [],
   "source": []
  },
  {
   "cell_type": "code",
   "execution_count": null,
   "metadata": {},
   "outputs": [],
   "source": []
  },
  {
   "cell_type": "code",
   "execution_count": null,
   "metadata": {},
   "outputs": [],
   "source": []
  },
  {
   "cell_type": "code",
   "execution_count": null,
   "metadata": {},
   "outputs": [],
   "source": []
  },
  {
   "cell_type": "code",
   "execution_count": null,
   "metadata": {},
   "outputs": [],
   "source": []
  }
 ],
 "metadata": {
  "kernelspec": {
   "display_name": "Python 3",
   "language": "python",
   "name": "python3"
  },
  "language_info": {
   "codemirror_mode": {
    "name": "ipython",
    "version": 3
   },
   "file_extension": ".py",
   "mimetype": "text/x-python",
   "name": "python",
   "nbconvert_exporter": "python",
   "pygments_lexer": "ipython3",
   "version": "3.7.1"
  }
 },
 "nbformat": 4,
 "nbformat_minor": 2
}
